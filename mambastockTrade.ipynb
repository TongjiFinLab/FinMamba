{
 "cells": [
  {
   "cell_type": "code",
   "metadata": {
    "ExecuteTime": {
     "start_time": "2024-10-12T06:31:18.708665Z"
    }
   },
   "source": [
    "import pandas as pd\n",
    "import numpy as np\n",
    "import pickle"
   ],
   "outputs": [],
   "execution_count": null
  },
  {
   "cell_type": "code",
   "metadata": {},
   "source": [
    "\n",
    "csitrade=pd.read_csv('stock/NASDAQ100_new.csv')\n",
    "if 'Close' in csitrade.columns:\n",
    "    csitrade.rename(columns={'Close':'close'},inplace=True)\n",
    "# The data must be sorted by stock.\n",
    "csitrade['close_r']=csitrade['close']/csitrade['close'].shift(1)\n",
    "\n",
    "# csitrade=pd.read_csv('../HS300_10_24/HS300A.csv')\n",
    "# csitrade.rename(columns={'label':'close_r'},inplace=True)"
   ],
   "outputs": [],
   "execution_count": null
  },
  {
   "cell_type": "code",
   "metadata": {},
   "source": [
    "csitrade.reset_index(inplace=True,drop=True)"
   ],
   "outputs": [],
   "execution_count": null
  },
  {
   "cell_type": "code",
   "metadata": {},
   "source": [
    "#market and daily return\n",
    "import pandas as pd\n",
    "df_trade=csitrade\n",
    "df_trade.rename(columns={'kdcode':'instrument','dt':'datetime'},inplace=True)\n",
    "df_trade.rename(columns={'company':'instrument','Date':'datetime'},inplace=True)\n",
    "df_trade['datetime'] = df_trade['datetime'].astype('datetime64[ns]')"
   ],
   "outputs": [],
   "execution_count": null
  },
  {
   "cell_type": "code",
   "metadata": {},
   "source": [
    "df_trade=df_trade[df_trade['datetime']>'2023-01-01']\n",
    "# df_trade=df_trade[df_trade['datetime']<='2024-06-30']\n",
    "df_trade.reset_index(inplace=True,drop=True)"
   ],
   "outputs": [],
   "execution_count": null
  },
  {
   "cell_type": "code",
   "metadata": {},
   "source": [
    "index_date_unique=df_trade['datetime'].unique()"
   ],
   "outputs": [],
   "execution_count": null
  },
  {
   "cell_type": "code",
   "metadata": {},
   "source": [
    "df=pd.read_csv('pred.csv')\n",
    "df.rename(columns={'label':'score'},inplace=True)\n",
    "# df.rename(columns={'dt':'datetime','kdcode':'instrument'},inplace=True)\n",
    "df['datetime']=df['datetime'].astype('datetime64[ns]')\n",
    "\n",
    "df_score=pd.DataFrame()\n",
    "for date in index_date_unique[:-1]:\n",
    "    loc=np.where(index_date_unique==date)\n",
    "    nextdate_loc=np.where(index_date_unique==date)[0][0]+1\n",
    "    for i in range(0,len(df)):\n",
    "        if df['datetime'][i]== date:\n",
    "            b={'datetime':index_date_unique[nextdate_loc],'instrument':df['instrument'][i],'score':df['score'][i]}\n",
    "            df_score=df_score._append(b,ignore_index=True)"
   ],
   "outputs": [],
   "execution_count": null
  },
  {
   "cell_type": "code",
   "metadata": {},
   "source": [
    "# df_score = df[df['datetime'].isin(index_date_unique)].copy()\n",
    "x=pd.merge(df_trade,df_score,on=['datetime','instrument'],how='outer')\n",
    "trade_date_unique=df_trade['datetime'].unique()\n",
    "df_return=pd.DataFrame()\n",
    "b={'datetime':trade_date_unique[0],'daily_return':0}\n",
    "df_return=df_return._append(b,ignore_index=True)\n",
    "for date in trade_date_unique[1:]:\n",
    "    x_day=x[x['datetime']==date]\n",
    "    r_day=x_day.nlargest(9,columns='score').close_r.mean()\n",
    "    r_day=r_day-1\n",
    "    #r_day-=x_day.nsmallest(3,columns='score').close_r.mean()\n",
    "    b={'datetime':date,'daily_return':r_day}\n",
    "    df_return=df_return._append(b,ignore_index=True)"
   ],
   "outputs": [],
   "execution_count": null
  },
  {
   "cell_type": "code",
   "metadata": {},
   "source": [
    "portfolio_df_performance = df_return.set_index(['datetime'])\n",
    "portfolio_df_performance"
   ],
   "outputs": [],
   "execution_count": null
  },
  {
   "cell_type": "code",
   "metadata": {},
   "source": [
    "ARR = (1 + portfolio_df_performance).cumprod()\n",
    "ARR"
   ],
   "outputs": [],
   "execution_count": null
  },
  {
   "cell_type": "code",
   "metadata": {},
   "source": [
    "t = df_trade['close_r'].values.reshape(-1, df_trade['datetime'].nunique())\n",
    "t  = np.mean(t, axis=0)\n",
    "t = t.cumprod()"
   ],
   "outputs": [],
   "execution_count": null
  },
  {
   "cell_type": "code",
   "metadata": {},
   "source": [
    "data = []\n",
    "data.append(ARR['daily_return'].values)\n",
    "data.append(t)\n",
    "data = np.array(data)\n",
    "data.shape"
   ],
   "outputs": [],
   "execution_count": null
  },
  {
   "cell_type": "code",
   "metadata": {},
   "source": [
    "'''\n",
    "import matplotlib.pyplot as plt\n",
    "\n",
    "def draw(data, meaning, title, color=['red', 'blue', 'green', 'orange', 'purple'], ncol=1):\n",
    "    plt.figure(figsize=(6, 2), dpi=200)\n",
    "    for i in range(data.shape[0]):\n",
    "        plt.plot(np.linspace(0.025, 1.965, data.shape[1]), data[i], label=f\"{meaning[i]}\", color=color[i])\n",
    "\n",
    "    plt.fill_between(np.linspace(0.025, 1.965, data.shape[1]), data[0], data[1], color='#ffffcc', alpha=0.5, label='Excess Return')\n",
    "\n",
    "    plt.xlabel('Date')\n",
    "    plt.ylabel('Accumulative Return')\n",
    "\n",
    "    date_labels = ['2024-01-01', '2024-03-01', '2024-05-01', '2024-06-30']\n",
    "    plt.xticks(np.linspace(0.0, 2.0, len(date_labels)), date_labels)\n",
    "    for x in np.linspace(0.0, 2.0, len(date_labels)):\n",
    "        plt.axvline(x=x, color='lightgray', linestyle='--', linewidth=1)\n",
    "\n",
    "    plt.legend(title=title, ncol=ncol, loc='best', fontsize='small')\n",
    "    plt.show()\n",
    "\n",
    "meaning = ['StockMamba', 'Market']\n",
    "title = ''\n",
    "draw(data, meaning, title)\n",
    "'''"
   ],
   "outputs": [],
   "execution_count": null
  },
  {
   "cell_type": "code",
   "metadata": {},
   "source": [
    "alpha_df_performance = pd.DataFrame()\n",
    "alpha_df_performance['portfolio_daily_return'] = portfolio_df_performance['daily_return']\n",
    "alpha_df_performance['portfolio_net_value'] = (alpha_df_performance['portfolio_daily_return'] + 1).cumprod()\n",
    "\n",
    "net_value_columns = ['portfolio_net_value']\n",
    "\n",
    "alpha_statistics_df = pd.DataFrame(index=alpha_df_performance[net_value_columns].columns,\n",
    "                                    columns=[\"ARR\", \"AVoL\", \"MDD\", \"ASR\", \"Calmar\", \"IR\"])\n",
    "\n",
    "# alpha_df_performance.set_index(\"dt\", inplace=True)\n",
    "alpha_df_performance.index = pd.to_datetime(alpha_df_performance.index)\n",
    "monthly_statistics_df = alpha_df_performance[net_value_columns].resample('m').last()\n",
    "monthly_statistics_df = pd.concat([alpha_df_performance[:1][\n",
    "                                        ['portfolio_net_value']],\n",
    "                                    monthly_statistics_df])\n",
    "monthly_statistics_df = monthly_statistics_df.pct_change()\n",
    "monthly_statistics_df = monthly_statistics_df.dropna()\n",
    "monthly_statistics_df.index = monthly_statistics_df.index.date\n",
    "\n",
    "yearly_statistics_df = alpha_df_performance[net_value_columns].resample('y').last()\n",
    "yearly_statistics_df = pd.concat([alpha_df_performance[:1][\n",
    "                                        ['portfolio_net_value']],\n",
    "                                    yearly_statistics_df])\n",
    "yearly_statistics_df = yearly_statistics_df.pct_change()\n",
    "yearly_statistics_df = yearly_statistics_df.dropna()\n",
    "yearly_statistics_df.index = yearly_statistics_df.index.date\n",
    "\n",
    "alpha_statistics_df.loc[:, \"ARR\"] = np.mean(\n",
    "    (alpha_df_performance[net_value_columns].tail(1)) ** (252 / len(alpha_df_performance)) - 1)\n",
    "alpha_statistics_df.loc[:, \"AVoL\"] = np.std(\n",
    "    alpha_df_performance[net_value_columns] / alpha_df_performance[net_value_columns].shift(1) - 1) * np.sqrt(\n",
    "    252)\n",
    "alpha_statistics_df.loc[:, \"Cumulative Return\"] = np.mean(alpha_df_performance[net_value_columns].tail(1) - 1)\n",
    "alpha_statistics_df.loc[:, \"Cumulative Volatility\"] = np.std(\n",
    "    alpha_df_performance[net_value_columns] / alpha_df_performance[net_value_columns].shift(1) - 1)\n",
    "alpha_statistics_df.loc[:, \"MDD\"] = np.min(\n",
    "    (alpha_df_performance[net_value_columns] - alpha_df_performance[net_value_columns].cummax()) /\n",
    "    alpha_df_performance[net_value_columns].cummax())\n",
    "alpha_statistics_df.loc[:, \"ASR\"] = alpha_statistics_df[\"ARR\"] / alpha_statistics_df[\"AVoL\"]\n",
    "alpha_statistics_df.loc[:, \"Calmar\"] = alpha_statistics_df[\"ARR\"] / abs(alpha_statistics_df[\"MDD\"])\n",
    "alpha_statistics_df.loc[:, \"IR\"] = np.mean(\n",
    "    alpha_df_performance[net_value_columns] / alpha_df_performance[net_value_columns].shift(1) - 1) * np.sqrt(\n",
    "    252) / np.std(alpha_df_performance[net_value_columns] / alpha_df_performance[net_value_columns].shift(1) - 1)"
   ],
   "outputs": [],
   "execution_count": null
  },
  {
   "cell_type": "code",
   "metadata": {},
   "source": [
    "alpha_statistics_df"
   ],
   "outputs": [],
   "execution_count": null
  },
  {
   "cell_type": "code",
   "metadata": {},
   "source": [
    "# ARR.to_csv(f\"para_sensitivity/nasdaq_mamba=2.csv\")"
   ],
   "outputs": [],
   "execution_count": null
  }
 ],
 "metadata": {
  "kernelspec": {
   "display_name": "ts",
   "language": "python",
   "name": "python3"
  },
  "language_info": {
   "codemirror_mode": {
    "name": "ipython",
    "version": 3
   },
   "file_extension": ".py",
   "mimetype": "text/x-python",
   "name": "python",
   "nbconvert_exporter": "python",
   "pygments_lexer": "ipython3",
   "version": "3.8.19"
  }
 },
 "nbformat": 4,
 "nbformat_minor": 2
}
